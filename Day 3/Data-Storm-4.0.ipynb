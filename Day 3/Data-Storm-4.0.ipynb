{
 "cells": [
  {
   "cell_type": "markdown",
   "metadata": {},
   "source": [
    "**Loading Data**"
   ]
  },
  {
   "cell_type": "code",
   "execution_count": 73,
   "metadata": {},
   "outputs": [],
   "source": [
    "#Import libraris\n",
    "import pandas as pd\n",
    "\n",
    "#load datasets\n",
    "historical_data = pd.read_csv(r'C:\\Users\\user\\Desktop\\Data-Storm-4\\data-storm-4\\Historical-transaction-data.csv')\n",
    "store_data = pd.read_csv(r'C:\\Users\\user\\Desktop\\Data-Storm-4\\data-storm-4\\Store-info.csv')"
   ]
  },
  {
   "cell_type": "code",
   "execution_count": 74,
   "metadata": {},
   "outputs": [
    {
     "data": {
      "text/plain": [
       "Index(['item_description', 'transaction_date', 'invoice_id', 'customer_id',\n",
       "       'shop_id', 'item_price', 'quantity_sold'],\n",
       "      dtype='object')"
      ]
     },
     "execution_count": 74,
     "metadata": {},
     "output_type": "execute_result"
    }
   ],
   "source": [
    "#columns of historical dataset\n",
    "historical_data.columns"
   ]
  },
  {
   "cell_type": "code",
   "execution_count": 75,
   "metadata": {},
   "outputs": [
    {
     "data": {
      "text/plain": [
       "Index(['shop_id', 'shop_area_sq_ft', 'shop_profile'], dtype='object')"
      ]
     },
     "execution_count": 75,
     "metadata": {},
     "output_type": "execute_result"
    }
   ],
   "source": [
    "#columns of store dataset\n",
    "store_data.columns"
   ]
  },
  {
   "cell_type": "markdown",
   "metadata": {},
   "source": [
    "**Pre-processing Historical Transaction Data**"
   ]
  },
  {
   "cell_type": "code",
   "execution_count": 76,
   "metadata": {},
   "outputs": [
    {
     "data": {
      "text/plain": [
       "3317818"
      ]
     },
     "execution_count": 76,
     "metadata": {},
     "output_type": "execute_result"
    }
   ],
   "source": [
    "historical_data.size"
   ]
  },
  {
   "cell_type": "code",
   "execution_count": 77,
   "metadata": {},
   "outputs": [
    {
     "data": {
      "text/plain": [
       "item_description     object\n",
       "transaction_date     object\n",
       "invoice_id          float64\n",
       "customer_id          object\n",
       "shop_id              object\n",
       "item_price            int64\n",
       "quantity_sold         int64\n",
       "dtype: object"
      ]
     },
     "execution_count": 77,
     "metadata": {},
     "output_type": "execute_result"
    }
   ],
   "source": [
    "historical_data.dtypes"
   ]
  },
  {
   "cell_type": "code",
   "execution_count": 78,
   "metadata": {},
   "outputs": [
    {
     "name": "stdout",
     "output_type": "stream",
     "text": [
      "<class 'pandas.core.frame.DataFrame'>\n",
      "RangeIndex: 473974 entries, 0 to 473973\n",
      "Data columns (total 7 columns):\n",
      " #   Column            Non-Null Count   Dtype  \n",
      "---  ------            --------------   -----  \n",
      " 0   item_description  438046 non-null  object \n",
      " 1   transaction_date  473974 non-null  object \n",
      " 2   invoice_id        467654 non-null  float64\n",
      " 3   customer_id       473974 non-null  object \n",
      " 4   shop_id           473974 non-null  object \n",
      " 5   item_price        473974 non-null  int64  \n",
      " 6   quantity_sold     473974 non-null  int64  \n",
      "dtypes: float64(1), int64(2), object(4)\n",
      "memory usage: 25.3+ MB\n"
     ]
    }
   ],
   "source": [
    "historical_data.info()"
   ]
  },
  {
   "cell_type": "code",
   "execution_count": 79,
   "metadata": {},
   "outputs": [
    {
     "data": {
      "text/plain": [
       "(473974, 7)"
      ]
     },
     "execution_count": 79,
     "metadata": {},
     "output_type": "execute_result"
    }
   ],
   "source": [
    "historical_data.shape"
   ]
  },
  {
   "cell_type": "code",
   "execution_count": 80,
   "metadata": {},
   "outputs": [
    {
     "data": {
      "text/html": [
       "<div>\n",
       "<style scoped>\n",
       "    .dataframe tbody tr th:only-of-type {\n",
       "        vertical-align: middle;\n",
       "    }\n",
       "\n",
       "    .dataframe tbody tr th {\n",
       "        vertical-align: top;\n",
       "    }\n",
       "\n",
       "    .dataframe thead th {\n",
       "        text-align: right;\n",
       "    }\n",
       "</style>\n",
       "<table border=\"1\" class=\"dataframe\">\n",
       "  <thead>\n",
       "    <tr style=\"text-align: right;\">\n",
       "      <th></th>\n",
       "      <th>item_description</th>\n",
       "      <th>transaction_date</th>\n",
       "      <th>invoice_id</th>\n",
       "      <th>customer_id</th>\n",
       "      <th>shop_id</th>\n",
       "      <th>item_price</th>\n",
       "      <th>quantity_sold</th>\n",
       "    </tr>\n",
       "  </thead>\n",
       "  <tbody>\n",
       "    <tr>\n",
       "      <th>0</th>\n",
       "      <td>ORANGE BARLEY 1.5L</td>\n",
       "      <td>2021-12-11T00:00:00.000Z</td>\n",
       "      <td>147.0</td>\n",
       "      <td>BGXA</td>\n",
       "      <td>SHOP008</td>\n",
       "      <td>220</td>\n",
       "      <td>2</td>\n",
       "    </tr>\n",
       "    <tr>\n",
       "      <th>1</th>\n",
       "      <td>GINGER BEER 1.5L</td>\n",
       "      <td>2021-10-17T00:00:00.000Z</td>\n",
       "      <td>371.0</td>\n",
       "      <td>IA25</td>\n",
       "      <td>SHOP112</td>\n",
       "      <td>220</td>\n",
       "      <td>2</td>\n",
       "    </tr>\n",
       "    <tr>\n",
       "      <th>2</th>\n",
       "      <td>TONIC PET 500ML</td>\n",
       "      <td>2021-12-13T00:00:00.000Z</td>\n",
       "      <td>484.0</td>\n",
       "      <td>VN7V</td>\n",
       "      <td>SHOP008</td>\n",
       "      <td>160</td>\n",
       "      <td>2</td>\n",
       "    </tr>\n",
       "    <tr>\n",
       "      <th>3</th>\n",
       "      <td>CREAM SODA 1L</td>\n",
       "      <td>2021-12-13T00:00:00.000Z</td>\n",
       "      <td>484.0</td>\n",
       "      <td>VN7V</td>\n",
       "      <td>SHOP008</td>\n",
       "      <td>150</td>\n",
       "      <td>2</td>\n",
       "    </tr>\n",
       "    <tr>\n",
       "      <th>4</th>\n",
       "      <td>STRAWBERRY MILK 180ML</td>\n",
       "      <td>2021-10-23T00:00:00.000Z</td>\n",
       "      <td>1310.0</td>\n",
       "      <td>7S00</td>\n",
       "      <td>SHOP112</td>\n",
       "      <td>210</td>\n",
       "      <td>5</td>\n",
       "    </tr>\n",
       "  </tbody>\n",
       "</table>\n",
       "</div>"
      ],
      "text/plain": [
       "        item_description          transaction_date  invoice_id customer_id  \\\n",
       "0     ORANGE BARLEY 1.5L  2021-12-11T00:00:00.000Z       147.0        BGXA   \n",
       "1       GINGER BEER 1.5L  2021-10-17T00:00:00.000Z       371.0        IA25   \n",
       "2        TONIC PET 500ML  2021-12-13T00:00:00.000Z       484.0        VN7V   \n",
       "3          CREAM SODA 1L  2021-12-13T00:00:00.000Z       484.0        VN7V   \n",
       "4  STRAWBERRY MILK 180ML  2021-10-23T00:00:00.000Z      1310.0        7S00   \n",
       "\n",
       "   shop_id  item_price  quantity_sold  \n",
       "0  SHOP008         220              2  \n",
       "1  SHOP112         220              2  \n",
       "2  SHOP008         160              2  \n",
       "3  SHOP008         150              2  \n",
       "4  SHOP112         210              5  "
      ]
     },
     "execution_count": 80,
     "metadata": {},
     "output_type": "execute_result"
    }
   ],
   "source": [
    "historical_data.head()"
   ]
  },
  {
   "cell_type": "code",
   "execution_count": 81,
   "metadata": {},
   "outputs": [
    {
     "name": "stdout",
     "output_type": "stream",
     "text": [
      "['item_description', 'transaction_date', 'customer_id', 'shop_id']\n"
     ]
    }
   ],
   "source": [
    "#get categorical features\n",
    "categorical_features = [column for column in historical_data.columns if historical_data[column].dtype == object]\n",
    "print(categorical_features)"
   ]
  },
  {
   "cell_type": "code",
   "execution_count": 82,
   "metadata": {},
   "outputs": [
    {
     "name": "stdout",
     "output_type": "stream",
     "text": [
      "item_description\n",
      "GINGER BEER 1.5L                59864\n",
      "CREAM SODA 1.5L                 39608\n",
      "CREAM SODA 500ML                34320\n",
      "GINGER BEER 1L                  26808\n",
      "ORANGE BARLEY 1.5L              23180\n",
      "NECTO 1.5L                      21746\n",
      "SODA 500ML                      16802\n",
      "BOTTLED DRINKING WATER 500ML    15786\n",
      "SODA PET 1.5L                   15652\n",
      "FIT O ORANGE 1L                 15392\n",
      "LEMONADE 1.5L                   13433\n",
      "SODA 1L                         13151\n",
      "TONIC PET 500ML                 12704\n",
      "GINGER BEER 500ML               11939\n",
      "CREAM SODA APPLE POP 1L         11736\n",
      "FIT O ORANGE 200ML               9490\n",
      "BOTTLED DRINKING WATER 1.5L      9194\n",
      "ORANGE CRUSH 1.5L                8288\n",
      "FIT O MIXED FRUIT 200ML          7618\n",
      "FIT O MIXED FRUIT 1L             7124\n",
      "FIT O MANGO 1L                   6664\n",
      "LEMONADE 500ML                   6453\n",
      "FIT O MANGO 200ML                6333\n",
      "GINGER BEER SUGAR FREE 500ML     5980\n",
      "DRY GINGER ALE PET 500ML         5894\n",
      "STRAWBERRY MILK 180ML            5530\n",
      "ORANGE CRUSH 500ML               4714\n",
      "TWISTEE APPLE 1L                 3930\n",
      "NECTO 500ML                      3811\n",
      "CREAM SODA 1L                    3668\n",
      "GINGER BEER 400ML                3250\n",
      "KIK COLA 1L                      2412\n",
      "LEMONADE 1L                      2222\n",
      "ORANGE CRUSH 1L                  1635\n",
      "NECTO 1L                         1595\n",
      "LIME CRUSH JUICE 1L                80\n",
      "CHOCOLATE MILK 180ML               40\n",
      "Name: item_description, dtype: int64\n",
      "transaction_date\n",
      "2021-12-11T00:00:00.000Z    15125\n",
      "2021-12-12T00:00:00.000Z    12950\n",
      "2021-11-27T00:00:00.000Z    12078\n",
      "2021-12-10T00:00:00.000Z    11693\n",
      "2021-12-04T00:00:00.000Z    11617\n",
      "                            ...  \n",
      "2021-11-16T00:00:00.000Z     4642\n",
      "2021-11-24T00:00:00.000Z     4468\n",
      "2021-11-09T00:00:00.000Z     4404\n",
      "2021-11-15T00:00:00.000Z     4215\n",
      "2021-11-08T00:00:00.000Z     3943\n",
      "Name: transaction_date, Length: 62, dtype: int64\n",
      "customer_id\n",
      "RX33    95\n",
      "05QX    90\n",
      "46C7    81\n",
      "Z7JA    74\n",
      "L82A    62\n",
      "        ..\n",
      "SZ3O     1\n",
      "0NTB     1\n",
      "4H17     1\n",
      "H49Q     1\n",
      "ERY4     1\n",
      "Name: customer_id, Length: 191636, dtype: int64\n",
      "shop_id\n",
      "SHOP043    6631\n",
      "SHOP011    6359\n",
      "SHOP082    6048\n",
      "SHOP111    6027\n",
      "SHOP086    6016\n",
      "           ... \n",
      "SHOP001    2020\n",
      "SHOP107    1962\n",
      "SHOP125    1866\n",
      "SHOP047    1692\n",
      "SHOP008     272\n",
      "Name: shop_id, Length: 124, dtype: int64\n"
     ]
    }
   ],
   "source": [
    "#Check different values of each categorical feature\n",
    "for x in categorical_features:\n",
    "    print(x)\n",
    "    print(historical_data[x].value_counts())"
   ]
  },
  {
   "cell_type": "code",
   "execution_count": 83,
   "metadata": {},
   "outputs": [
    {
     "data": {
      "text/html": [
       "<div>\n",
       "<style scoped>\n",
       "    .dataframe tbody tr th:only-of-type {\n",
       "        vertical-align: middle;\n",
       "    }\n",
       "\n",
       "    .dataframe tbody tr th {\n",
       "        vertical-align: top;\n",
       "    }\n",
       "\n",
       "    .dataframe thead th {\n",
       "        text-align: right;\n",
       "    }\n",
       "</style>\n",
       "<table border=\"1\" class=\"dataframe\">\n",
       "  <thead>\n",
       "    <tr style=\"text-align: right;\">\n",
       "      <th></th>\n",
       "      <th>invoice_id</th>\n",
       "      <th>item_price</th>\n",
       "      <th>quantity_sold</th>\n",
       "    </tr>\n",
       "  </thead>\n",
       "  <tbody>\n",
       "    <tr>\n",
       "      <th>count</th>\n",
       "      <td>4.676540e+05</td>\n",
       "      <td>473974.000000</td>\n",
       "      <td>473974.000000</td>\n",
       "    </tr>\n",
       "    <tr>\n",
       "      <th>mean</th>\n",
       "      <td>1.996684e+06</td>\n",
       "      <td>206.689734</td>\n",
       "      <td>1.925506</td>\n",
       "    </tr>\n",
       "    <tr>\n",
       "      <th>std</th>\n",
       "      <td>1.344594e+06</td>\n",
       "      <td>166.764732</td>\n",
       "      <td>1.634535</td>\n",
       "    </tr>\n",
       "    <tr>\n",
       "      <th>min</th>\n",
       "      <td>1.700000e+01</td>\n",
       "      <td>35.000000</td>\n",
       "      <td>-1.000000</td>\n",
       "    </tr>\n",
       "    <tr>\n",
       "      <th>25%</th>\n",
       "      <td>1.032114e+06</td>\n",
       "      <td>100.000000</td>\n",
       "      <td>1.000000</td>\n",
       "    </tr>\n",
       "    <tr>\n",
       "      <th>50%</th>\n",
       "      <td>2.032996e+06</td>\n",
       "      <td>200.000000</td>\n",
       "      <td>2.000000</td>\n",
       "    </tr>\n",
       "    <tr>\n",
       "      <th>75%</th>\n",
       "      <td>3.032568e+06</td>\n",
       "      <td>220.000000</td>\n",
       "      <td>2.000000</td>\n",
       "    </tr>\n",
       "    <tr>\n",
       "      <th>max</th>\n",
       "      <td>8.331754e+06</td>\n",
       "      <td>17400.000000</td>\n",
       "      <td>101.000000</td>\n",
       "    </tr>\n",
       "  </tbody>\n",
       "</table>\n",
       "</div>"
      ],
      "text/plain": [
       "         invoice_id     item_price  quantity_sold\n",
       "count  4.676540e+05  473974.000000  473974.000000\n",
       "mean   1.996684e+06     206.689734       1.925506\n",
       "std    1.344594e+06     166.764732       1.634535\n",
       "min    1.700000e+01      35.000000      -1.000000\n",
       "25%    1.032114e+06     100.000000       1.000000\n",
       "50%    2.032996e+06     200.000000       2.000000\n",
       "75%    3.032568e+06     220.000000       2.000000\n",
       "max    8.331754e+06   17400.000000     101.000000"
      ]
     },
     "execution_count": 83,
     "metadata": {},
     "output_type": "execute_result"
    }
   ],
   "source": [
    "historical_data.describe()"
   ]
  },
  {
   "cell_type": "code",
   "execution_count": 84,
   "metadata": {},
   "outputs": [
    {
     "data": {
      "text/plain": [
       "item_description    35928\n",
       "transaction_date        0\n",
       "invoice_id           6320\n",
       "customer_id             0\n",
       "shop_id                 0\n",
       "item_price              0\n",
       "quantity_sold           0\n",
       "dtype: int64"
      ]
     },
     "execution_count": 84,
     "metadata": {},
     "output_type": "execute_result"
    }
   ],
   "source": [
    "#Check null values\n",
    "historical_data.isnull().sum()"
   ]
  },
  {
   "cell_type": "code",
   "execution_count": 85,
   "metadata": {},
   "outputs": [
    {
     "data": {
      "text/plain": [
       "<AxesSubplot:>"
      ]
     },
     "execution_count": 85,
     "metadata": {},
     "output_type": "execute_result"
    },
    {
     "data": {
      "image/png": "[encoded data removed]",
      "text/plain": [
       "<Figure size 1440x1080 with 1 Axes>"
      ]
     },
     "metadata": {
      "needs_background": "light"
     },
     "output_type": "display_data"
    }
   ],
   "source": [
    "import matplotlib.pyplot as plt\n",
    "import seaborn as sns\n",
    "\n",
    "plt.subplots(figsize=(20,15))\n",
    "sns.heatmap(historical_data.isnull(), yticklabels=False, cbar=False, cmap='viridis')"
   ]
  },
  {
   "cell_type": "code",
   "execution_count": 86,
   "metadata": {},
   "outputs": [],
   "source": [
    "# Drop columns\n",
    "historical_data.drop(columns=[\"item_description\",\"invoice_id\"], inplace=True)"
   ]
  },
  {
   "cell_type": "code",
   "execution_count": 87,
   "metadata": {},
   "outputs": [
    {
     "data": {
      "text/plain": [
       "transaction_date    0\n",
       "customer_id         0\n",
       "shop_id             0\n",
       "item_price          0\n",
       "quantity_sold       0\n",
       "dtype: int64"
      ]
     },
     "execution_count": 87,
     "metadata": {},
     "output_type": "execute_result"
    }
   ],
   "source": [
    "historical_data.isnull().sum()"
   ]
  },
  {
   "cell_type": "code",
   "execution_count": 88,
   "metadata": {},
   "outputs": [
    {
     "data": {
      "text/plain": [
       "<AxesSubplot:>"
      ]
     },
     "execution_count": 88,
     "metadata": {},
     "output_type": "execute_result"
    },
    {
     "data": {
      "image/png": "[encoded data removed]",
      "text/plain": [
       "<Figure size 1440x1080 with 1 Axes>"
      ]
     },
     "metadata": {
      "needs_background": "light"
     },
     "output_type": "display_data"
    }
   ],
   "source": [
    "import matplotlib.pyplot as plt\n",
    "import seaborn as sns\n",
    "\n",
    "plt.subplots(figsize=(20,15))\n",
    "sns.heatmap(historical_data.isnull(), yticklabels=False, cbar=False, cmap='viridis')"
   ]
  },
  {
   "cell_type": "code",
   "execution_count": 89,
   "metadata": {},
   "outputs": [
    {
     "data": {
      "text/html": [
       "<div>\n",
       "<style scoped>\n",
       "    .dataframe tbody tr th:only-of-type {\n",
       "        vertical-align: middle;\n",
       "    }\n",
       "\n",
       "    .dataframe tbody tr th {\n",
       "        vertical-align: top;\n",
       "    }\n",
       "\n",
       "    .dataframe thead th {\n",
       "        text-align: right;\n",
       "    }\n",
       "</style>\n",
       "<table border=\"1\" class=\"dataframe\">\n",
       "  <thead>\n",
       "    <tr style=\"text-align: right;\">\n",
       "      <th></th>\n",
       "      <th>transaction_date</th>\n",
       "      <th>customer_id</th>\n",
       "      <th>shop_id</th>\n",
       "      <th>item_price</th>\n",
       "      <th>quantity_sold</th>\n",
       "    </tr>\n",
       "  </thead>\n",
       "  <tbody>\n",
       "    <tr>\n",
       "      <th>0</th>\n",
       "      <td>2021-12-11T00:00:00.000Z</td>\n",
       "      <td>BGXA</td>\n",
       "      <td>SHOP008</td>\n",
       "      <td>0.079815</td>\n",
       "      <td>0.045575</td>\n",
       "    </tr>\n",
       "    <tr>\n",
       "      <th>1</th>\n",
       "      <td>2021-10-17T00:00:00.000Z</td>\n",
       "      <td>IA25</td>\n",
       "      <td>SHOP112</td>\n",
       "      <td>0.079815</td>\n",
       "      <td>0.045575</td>\n",
       "    </tr>\n",
       "    <tr>\n",
       "      <th>2</th>\n",
       "      <td>2021-12-13T00:00:00.000Z</td>\n",
       "      <td>VN7V</td>\n",
       "      <td>SHOP008</td>\n",
       "      <td>-0.279974</td>\n",
       "      <td>0.045575</td>\n",
       "    </tr>\n",
       "    <tr>\n",
       "      <th>3</th>\n",
       "      <td>2021-12-13T00:00:00.000Z</td>\n",
       "      <td>VN7V</td>\n",
       "      <td>SHOP008</td>\n",
       "      <td>-0.339939</td>\n",
       "      <td>0.045575</td>\n",
       "    </tr>\n",
       "    <tr>\n",
       "      <th>4</th>\n",
       "      <td>2021-10-23T00:00:00.000Z</td>\n",
       "      <td>7S00</td>\n",
       "      <td>SHOP112</td>\n",
       "      <td>0.019850</td>\n",
       "      <td>1.880961</td>\n",
       "    </tr>\n",
       "  </tbody>\n",
       "</table>\n",
       "</div>"
      ],
      "text/plain": [
       "           transaction_date customer_id  shop_id  item_price  quantity_sold\n",
       "0  2021-12-11T00:00:00.000Z        BGXA  SHOP008    0.079815       0.045575\n",
       "1  2021-10-17T00:00:00.000Z        IA25  SHOP112    0.079815       0.045575\n",
       "2  2021-12-13T00:00:00.000Z        VN7V  SHOP008   -0.279974       0.045575\n",
       "3  2021-12-13T00:00:00.000Z        VN7V  SHOP008   -0.339939       0.045575\n",
       "4  2021-10-23T00:00:00.000Z        7S00  SHOP112    0.019850       1.880961"
      ]
     },
     "execution_count": 89,
     "metadata": {},
     "output_type": "execute_result"
    }
   ],
   "source": [
    "#Scaling data\n",
    "from sklearn.preprocessing import StandardScaler\n",
    "\n",
    "scaler = StandardScaler()\n",
    "numeric_features = ['item_price', 'quantity_sold']\n",
    "historical_data[numeric_features] = scaler.fit_transform(historical_data[numeric_features])\n",
    "\n",
    "historical_data.head()"
   ]
  },
  {
   "cell_type": "markdown",
   "metadata": {},
   "source": [
    "**Preporocessing Store Data**"
   ]
  },
  {
   "cell_type": "code",
   "execution_count": 90,
   "metadata": {},
   "outputs": [
    {
     "data": {
      "text/plain": [
       "372"
      ]
     },
     "execution_count": 90,
     "metadata": {},
     "output_type": "execute_result"
    }
   ],
   "source": [
    "store_data.size"
   ]
  },
  {
   "cell_type": "code",
   "execution_count": 91,
   "metadata": {},
   "outputs": [
    {
     "name": "stdout",
     "output_type": "stream",
     "text": [
      "<class 'pandas.core.frame.DataFrame'>\n",
      "RangeIndex: 124 entries, 0 to 123\n",
      "Data columns (total 3 columns):\n",
      " #   Column           Non-Null Count  Dtype \n",
      "---  ------           --------------  ----- \n",
      " 0   shop_id          124 non-null    object\n",
      " 1   shop_area_sq_ft  124 non-null    int64 \n",
      " 2   shop_profile     100 non-null    object\n",
      "dtypes: int64(1), object(2)\n",
      "memory usage: 3.0+ KB\n"
     ]
    }
   ],
   "source": [
    "store_data.info()"
   ]
  },
  {
   "cell_type": "markdown",
   "metadata": {},
   "source": [
    "**Create Master Table**"
   ]
  },
  {
   "cell_type": "code",
   "execution_count": 92,
   "metadata": {},
   "outputs": [],
   "source": [
    "#Mearge two datasets\n",
    "df = pd.merge(historical_data, store_data)"
   ]
  },
  {
   "cell_type": "code",
   "execution_count": 93,
   "metadata": {},
   "outputs": [],
   "source": [
    "# df.head()"
   ]
  },
  {
   "cell_type": "code",
   "execution_count": 94,
   "metadata": {},
   "outputs": [
    {
     "data": {
      "text/plain": [
       "3317818"
      ]
     },
     "execution_count": 94,
     "metadata": {},
     "output_type": "execute_result"
    }
   ],
   "source": [
    "df.size"
   ]
  },
  {
   "cell_type": "code",
   "execution_count": 95,
   "metadata": {},
   "outputs": [
    {
     "name": "stderr",
     "output_type": "stream",
     "text": [
      "<ipython-input-95-17bb48313ddf>:2: FutureWarning: Columnar iteration over characters will be deprecated in future releases.\n",
      "  df['Date'], df['timestamp'] = df['transaction_date'].str.split('T', 1).str\n"
     ]
    }
   ],
   "source": [
    "#Divide transaction_data feature into two features\n",
    "df['Date'], df['timestamp'] = df['transaction_date'].str.split('T', 1).str"
   ]
  },
  {
   "cell_type": "code",
   "execution_count": 96,
   "metadata": {},
   "outputs": [],
   "source": [
    "# df"
   ]
  },
  {
   "cell_type": "code",
   "execution_count": 97,
   "metadata": {},
   "outputs": [],
   "source": [
    "#drop timestamp column bcz its value is same for all rows\n",
    "df = df.drop('timestamp', axis=1)"
   ]
  },
  {
   "cell_type": "code",
   "execution_count": 98,
   "metadata": {},
   "outputs": [
    {
     "name": "stderr",
     "output_type": "stream",
     "text": [
      "<ipython-input-98-7d9a700d1cba>:2: FutureWarning: Columnar iteration over characters will be deprecated in future releases.\n",
      "  df['year'], df['month'], df['day'] = df['Date'].str.split('-', 2).str\n"
     ]
    }
   ],
   "source": [
    "#Divide Date feature into three features\n",
    "df['year'], df['month'], df['day'] = df['Date'].str.split('-', 2).str"
   ]
  },
  {
   "cell_type": "code",
   "execution_count": 99,
   "metadata": {},
   "outputs": [],
   "source": [
    "# df.head()"
   ]
  },
  {
   "cell_type": "code",
   "execution_count": 100,
   "metadata": {},
   "outputs": [
    {
     "data": {
      "text/html": [
       "<div>\n",
       "<style scoped>\n",
       "    .dataframe tbody tr th:only-of-type {\n",
       "        vertical-align: middle;\n",
       "    }\n",
       "\n",
       "    .dataframe tbody tr th {\n",
       "        vertical-align: top;\n",
       "    }\n",
       "\n",
       "    .dataframe thead th {\n",
       "        text-align: right;\n",
       "    }\n",
       "</style>\n",
       "<table border=\"1\" class=\"dataframe\">\n",
       "  <thead>\n",
       "    <tr style=\"text-align: right;\">\n",
       "      <th></th>\n",
       "      <th>customer_id</th>\n",
       "      <th>shop_id</th>\n",
       "      <th>item_price</th>\n",
       "      <th>quantity_sold</th>\n",
       "      <th>shop_area_sq_ft</th>\n",
       "      <th>shop_profile</th>\n",
       "      <th>month</th>\n",
       "      <th>day</th>\n",
       "    </tr>\n",
       "  </thead>\n",
       "  <tbody>\n",
       "    <tr>\n",
       "      <th>0</th>\n",
       "      <td>BGXA</td>\n",
       "      <td>SHOP008</td>\n",
       "      <td>0.079815</td>\n",
       "      <td>0.045575</td>\n",
       "      <td>678</td>\n",
       "      <td>Moderate</td>\n",
       "      <td>12</td>\n",
       "      <td>11</td>\n",
       "    </tr>\n",
       "    <tr>\n",
       "      <th>1</th>\n",
       "      <td>VN7V</td>\n",
       "      <td>SHOP008</td>\n",
       "      <td>-0.279974</td>\n",
       "      <td>0.045575</td>\n",
       "      <td>678</td>\n",
       "      <td>Moderate</td>\n",
       "      <td>12</td>\n",
       "      <td>13</td>\n",
       "    </tr>\n",
       "    <tr>\n",
       "      <th>2</th>\n",
       "      <td>VN7V</td>\n",
       "      <td>SHOP008</td>\n",
       "      <td>-0.339939</td>\n",
       "      <td>0.045575</td>\n",
       "      <td>678</td>\n",
       "      <td>Moderate</td>\n",
       "      <td>12</td>\n",
       "      <td>13</td>\n",
       "    </tr>\n",
       "    <tr>\n",
       "      <th>3</th>\n",
       "      <td>VT9C</td>\n",
       "      <td>SHOP008</td>\n",
       "      <td>0.079815</td>\n",
       "      <td>-0.566221</td>\n",
       "      <td>678</td>\n",
       "      <td>Moderate</td>\n",
       "      <td>12</td>\n",
       "      <td>10</td>\n",
       "    </tr>\n",
       "    <tr>\n",
       "      <th>4</th>\n",
       "      <td>8QLS</td>\n",
       "      <td>SHOP008</td>\n",
       "      <td>1.399040</td>\n",
       "      <td>-0.566221</td>\n",
       "      <td>678</td>\n",
       "      <td>Moderate</td>\n",
       "      <td>12</td>\n",
       "      <td>10</td>\n",
       "    </tr>\n",
       "  </tbody>\n",
       "</table>\n",
       "</div>"
      ],
      "text/plain": [
       "  customer_id  shop_id  item_price  quantity_sold  shop_area_sq_ft  \\\n",
       "0        BGXA  SHOP008    0.079815       0.045575              678   \n",
       "1        VN7V  SHOP008   -0.279974       0.045575              678   \n",
       "2        VN7V  SHOP008   -0.339939       0.045575              678   \n",
       "3        VT9C  SHOP008    0.079815      -0.566221              678   \n",
       "4        8QLS  SHOP008    1.399040      -0.566221              678   \n",
       "\n",
       "  shop_profile month day  \n",
       "0     Moderate    12  11  \n",
       "1     Moderate    12  13  \n",
       "2     Moderate    12  13  \n",
       "3     Moderate    12  10  \n",
       "4     Moderate    12  10  "
      ]
     },
     "execution_count": 100,
     "metadata": {},
     "output_type": "execute_result"
    }
   ],
   "source": [
    "#drop columns bcz their values are same for all rows\n",
    "df = df.drop(['Date', 'year', 'transaction_date'], axis=1)\n",
    "df.head()"
   ]
  },
  {
   "cell_type": "code",
   "execution_count": 101,
   "metadata": {},
   "outputs": [
    {
     "data": {
      "text/html": [
       "<div>\n",
       "<style scoped>\n",
       "    .dataframe tbody tr th:only-of-type {\n",
       "        vertical-align: middle;\n",
       "    }\n",
       "\n",
       "    .dataframe tbody tr th {\n",
       "        vertical-align: top;\n",
       "    }\n",
       "\n",
       "    .dataframe thead th {\n",
       "        text-align: right;\n",
       "    }\n",
       "</style>\n",
       "<table border=\"1\" class=\"dataframe\">\n",
       "  <thead>\n",
       "    <tr style=\"text-align: right;\">\n",
       "      <th></th>\n",
       "      <th>customer_id</th>\n",
       "      <th>shop_id</th>\n",
       "      <th>item_price</th>\n",
       "      <th>quantity_sold</th>\n",
       "      <th>shop_area_sq_ft</th>\n",
       "      <th>shop_profile</th>\n",
       "      <th>month</th>\n",
       "      <th>day</th>\n",
       "    </tr>\n",
       "  </thead>\n",
       "  <tbody>\n",
       "    <tr>\n",
       "      <th>0</th>\n",
       "      <td>61065</td>\n",
       "      <td>7</td>\n",
       "      <td>0.079815</td>\n",
       "      <td>0.045575</td>\n",
       "      <td>678</td>\n",
       "      <td>Moderate</td>\n",
       "      <td>12</td>\n",
       "      <td>11</td>\n",
       "    </tr>\n",
       "    <tr>\n",
       "      <th>1</th>\n",
       "      <td>168484</td>\n",
       "      <td>7</td>\n",
       "      <td>-0.279974</td>\n",
       "      <td>0.045575</td>\n",
       "      <td>678</td>\n",
       "      <td>Moderate</td>\n",
       "      <td>12</td>\n",
       "      <td>13</td>\n",
       "    </tr>\n",
       "    <tr>\n",
       "      <th>2</th>\n",
       "      <td>168484</td>\n",
       "      <td>7</td>\n",
       "      <td>-0.339939</td>\n",
       "      <td>0.045575</td>\n",
       "      <td>678</td>\n",
       "      <td>Moderate</td>\n",
       "      <td>12</td>\n",
       "      <td>13</td>\n",
       "    </tr>\n",
       "    <tr>\n",
       "      <th>3</th>\n",
       "      <td>169387</td>\n",
       "      <td>7</td>\n",
       "      <td>0.079815</td>\n",
       "      <td>-0.566221</td>\n",
       "      <td>678</td>\n",
       "      <td>Moderate</td>\n",
       "      <td>12</td>\n",
       "      <td>10</td>\n",
       "    </tr>\n",
       "    <tr>\n",
       "      <th>4</th>\n",
       "      <td>46614</td>\n",
       "      <td>7</td>\n",
       "      <td>1.399040</td>\n",
       "      <td>-0.566221</td>\n",
       "      <td>678</td>\n",
       "      <td>Moderate</td>\n",
       "      <td>12</td>\n",
       "      <td>10</td>\n",
       "    </tr>\n",
       "    <tr>\n",
       "      <th>...</th>\n",
       "      <td>...</td>\n",
       "      <td>...</td>\n",
       "      <td>...</td>\n",
       "      <td>...</td>\n",
       "      <td>...</td>\n",
       "      <td>...</td>\n",
       "      <td>...</td>\n",
       "      <td>...</td>\n",
       "    </tr>\n",
       "    <tr>\n",
       "      <th>473969</th>\n",
       "      <td>143127</td>\n",
       "      <td>70</td>\n",
       "      <td>-0.819657</td>\n",
       "      <td>-0.566221</td>\n",
       "      <td>617</td>\n",
       "      <td>High</td>\n",
       "      <td>12</td>\n",
       "      <td>09</td>\n",
       "    </tr>\n",
       "    <tr>\n",
       "      <th>473970</th>\n",
       "      <td>95475</td>\n",
       "      <td>70</td>\n",
       "      <td>-0.399904</td>\n",
       "      <td>0.045575</td>\n",
       "      <td>617</td>\n",
       "      <td>High</td>\n",
       "      <td>12</td>\n",
       "      <td>11</td>\n",
       "    </tr>\n",
       "    <tr>\n",
       "      <th>473971</th>\n",
       "      <td>132447</td>\n",
       "      <td>70</td>\n",
       "      <td>-1.029534</td>\n",
       "      <td>-0.566221</td>\n",
       "      <td>617</td>\n",
       "      <td>High</td>\n",
       "      <td>12</td>\n",
       "      <td>11</td>\n",
       "    </tr>\n",
       "    <tr>\n",
       "      <th>473972</th>\n",
       "      <td>29426</td>\n",
       "      <td>70</td>\n",
       "      <td>0.079815</td>\n",
       "      <td>-0.566221</td>\n",
       "      <td>617</td>\n",
       "      <td>High</td>\n",
       "      <td>10</td>\n",
       "      <td>21</td>\n",
       "    </tr>\n",
       "    <tr>\n",
       "      <th>473973</th>\n",
       "      <td>161438</td>\n",
       "      <td>70</td>\n",
       "      <td>0.079815</td>\n",
       "      <td>-1.178016</td>\n",
       "      <td>617</td>\n",
       "      <td>High</td>\n",
       "      <td>10</td>\n",
       "      <td>27</td>\n",
       "    </tr>\n",
       "  </tbody>\n",
       "</table>\n",
       "<p>473974 rows × 8 columns</p>\n",
       "</div>"
      ],
      "text/plain": [
       "        customer_id  shop_id  item_price  quantity_sold  shop_area_sq_ft  \\\n",
       "0             61065        7    0.079815       0.045575              678   \n",
       "1            168484        7   -0.279974       0.045575              678   \n",
       "2            168484        7   -0.339939       0.045575              678   \n",
       "3            169387        7    0.079815      -0.566221              678   \n",
       "4             46614        7    1.399040      -0.566221              678   \n",
       "...             ...      ...         ...            ...              ...   \n",
       "473969       143127       70   -0.819657      -0.566221              617   \n",
       "473970        95475       70   -0.399904       0.045575              617   \n",
       "473971       132447       70   -1.029534      -0.566221              617   \n",
       "473972        29426       70    0.079815      -0.566221              617   \n",
       "473973       161438       70    0.079815      -1.178016              617   \n",
       "\n",
       "       shop_profile month day  \n",
       "0          Moderate    12  11  \n",
       "1          Moderate    12  13  \n",
       "2          Moderate    12  13  \n",
       "3          Moderate    12  10  \n",
       "4          Moderate    12  10  \n",
       "...             ...   ...  ..  \n",
       "473969         High    12  09  \n",
       "473970         High    12  11  \n",
       "473971         High    12  11  \n",
       "473972         High    10  21  \n",
       "473973         High    10  27  \n",
       "\n",
       "[473974 rows x 8 columns]"
      ]
     },
     "execution_count": 101,
     "metadata": {},
     "output_type": "execute_result"
    }
   ],
   "source": [
    "#Encoding categorical features\n",
    "from sklearn.preprocessing import LabelEncoder\n",
    "\n",
    "le = LabelEncoder()\n",
    "df['customer_id'] = le.fit_transform(df['customer_id'])\n",
    "df['shop_id'] = le.fit_transform(df['shop_id'])\n",
    "df"
   ]
  },
  {
   "cell_type": "code",
   "execution_count": 102,
   "metadata": {},
   "outputs": [
    {
     "data": {
      "text/html": [
       "<div>\n",
       "<style scoped>\n",
       "    .dataframe tbody tr th:only-of-type {\n",
       "        vertical-align: middle;\n",
       "    }\n",
       "\n",
       "    .dataframe tbody tr th {\n",
       "        vertical-align: top;\n",
       "    }\n",
       "\n",
       "    .dataframe thead th {\n",
       "        text-align: right;\n",
       "    }\n",
       "</style>\n",
       "<table border=\"1\" class=\"dataframe\">\n",
       "  <thead>\n",
       "    <tr style=\"text-align: right;\">\n",
       "      <th></th>\n",
       "      <th>customer_id</th>\n",
       "      <th>shop_id</th>\n",
       "      <th>item_price</th>\n",
       "      <th>quantity_sold</th>\n",
       "      <th>shop_area_sq_ft</th>\n",
       "      <th>month</th>\n",
       "      <th>day</th>\n",
       "    </tr>\n",
       "  </thead>\n",
       "  <tbody>\n",
       "    <tr>\n",
       "      <th>13404</th>\n",
       "      <td>178609</td>\n",
       "      <td>85</td>\n",
       "      <td>0.079815</td>\n",
       "      <td>0.045575</td>\n",
       "      <td>527</td>\n",
       "      <td>10</td>\n",
       "      <td>17</td>\n",
       "    </tr>\n",
       "    <tr>\n",
       "      <th>13405</th>\n",
       "      <td>94410</td>\n",
       "      <td>85</td>\n",
       "      <td>-0.279974</td>\n",
       "      <td>0.045575</td>\n",
       "      <td>527</td>\n",
       "      <td>10</td>\n",
       "      <td>19</td>\n",
       "    </tr>\n",
       "    <tr>\n",
       "      <th>13406</th>\n",
       "      <td>123658</td>\n",
       "      <td>85</td>\n",
       "      <td>-0.579798</td>\n",
       "      <td>0.045575</td>\n",
       "      <td>527</td>\n",
       "      <td>10</td>\n",
       "      <td>22</td>\n",
       "    </tr>\n",
       "    <tr>\n",
       "      <th>13407</th>\n",
       "      <td>123658</td>\n",
       "      <td>85</td>\n",
       "      <td>0.079815</td>\n",
       "      <td>0.045575</td>\n",
       "      <td>527</td>\n",
       "      <td>10</td>\n",
       "      <td>22</td>\n",
       "    </tr>\n",
       "    <tr>\n",
       "      <th>13408</th>\n",
       "      <td>120533</td>\n",
       "      <td>85</td>\n",
       "      <td>0.079815</td>\n",
       "      <td>0.045575</td>\n",
       "      <td>527</td>\n",
       "      <td>10</td>\n",
       "      <td>26</td>\n",
       "    </tr>\n",
       "  </tbody>\n",
       "</table>\n",
       "</div>"
      ],
      "text/plain": [
       "       customer_id  shop_id  item_price  quantity_sold  shop_area_sq_ft month  \\\n",
       "13404       178609       85    0.079815       0.045575              527    10   \n",
       "13405        94410       85   -0.279974       0.045575              527    10   \n",
       "13406       123658       85   -0.579798       0.045575              527    10   \n",
       "13407       123658       85    0.079815       0.045575              527    10   \n",
       "13408       120533       85    0.079815       0.045575              527    10   \n",
       "\n",
       "      day  \n",
       "13404  17  \n",
       "13405  19  \n",
       "13406  22  \n",
       "13407  22  \n",
       "13408  26  "
      ]
     },
     "execution_count": 102,
     "metadata": {},
     "output_type": "execute_result"
    }
   ],
   "source": [
    "#Seperate records for testing data\n",
    "import numpy as np\n",
    "\n",
    "test_data = df[df['shop_profile'].isnull()]\n",
    "test_data = test_data.drop('shop_profile', axis=1)\n",
    "test_data.head()"
   ]
  },
  {
   "cell_type": "code",
   "execution_count": 103,
   "metadata": {},
   "outputs": [],
   "source": [
    "#drop rows with null values\n",
    "df = df.dropna()"
   ]
  },
  {
   "cell_type": "code",
   "execution_count": 104,
   "metadata": {},
   "outputs": [
    {
     "data": {
      "text/html": [
       "<div>\n",
       "<style scoped>\n",
       "    .dataframe tbody tr th:only-of-type {\n",
       "        vertical-align: middle;\n",
       "    }\n",
       "\n",
       "    .dataframe tbody tr th {\n",
       "        vertical-align: top;\n",
       "    }\n",
       "\n",
       "    .dataframe thead th {\n",
       "        text-align: right;\n",
       "    }\n",
       "</style>\n",
       "<table border=\"1\" class=\"dataframe\">\n",
       "  <thead>\n",
       "    <tr style=\"text-align: right;\">\n",
       "      <th></th>\n",
       "      <th>customer_id</th>\n",
       "      <th>shop_id</th>\n",
       "      <th>item_price</th>\n",
       "      <th>quantity_sold</th>\n",
       "      <th>shop_area_sq_ft</th>\n",
       "      <th>shop_profile</th>\n",
       "      <th>month</th>\n",
       "      <th>day</th>\n",
       "    </tr>\n",
       "  </thead>\n",
       "  <tbody>\n",
       "  </tbody>\n",
       "</table>\n",
       "</div>"
      ],
      "text/plain": [
       "Empty DataFrame\n",
       "Columns: [customer_id, shop_id, item_price, quantity_sold, shop_area_sq_ft, shop_profile, month, day]\n",
       "Index: []"
      ]
     },
     "execution_count": 104,
     "metadata": {},
     "output_type": "execute_result"
    }
   ],
   "source": [
    "df[df.isnull().any(axis=1)]"
   ]
  },
  {
   "cell_type": "markdown",
   "metadata": {},
   "source": [
    "**Model Creation**"
   ]
  },
  {
   "cell_type": "code",
   "execution_count": 105,
   "metadata": {},
   "outputs": [],
   "source": [
    "#seperate features\n",
    "feature = df.drop('shop_profile', axis=1)"
   ]
  },
  {
   "cell_type": "code",
   "execution_count": 106,
   "metadata": {},
   "outputs": [],
   "source": [
    "#seperate target\n",
    "target = df['shop_profile']"
   ]
  },
  {
   "cell_type": "code",
   "execution_count": 107,
   "metadata": {},
   "outputs": [],
   "source": [
    "# feature.head()"
   ]
  },
  {
   "cell_type": "code",
   "execution_count": 108,
   "metadata": {},
   "outputs": [],
   "source": [
    "# target.head()"
   ]
  },
  {
   "cell_type": "code",
   "execution_count": 109,
   "metadata": {},
   "outputs": [],
   "source": [
    "#split data into train and test sets\n",
    "from sklearn.model_selection import train_test_split\n",
    "\n",
    "X_train, X_test, y_train, y_test = train_test_split(feature, target, test_size=0.2, random_state=1)"
   ]
  },
  {
   "cell_type": "code",
   "execution_count": 110,
   "metadata": {},
   "outputs": [],
   "source": [
    "# X_train.shape"
   ]
  },
  {
   "cell_type": "code",
   "execution_count": 111,
   "metadata": {},
   "outputs": [],
   "source": [
    "# X_test.shape"
   ]
  },
  {
   "cell_type": "code",
   "execution_count": 112,
   "metadata": {},
   "outputs": [],
   "source": [
    "# y_train.shape"
   ]
  },
  {
   "cell_type": "code",
   "execution_count": 113,
   "metadata": {},
   "outputs": [],
   "source": [
    "# y_test.shape"
   ]
  },
  {
   "cell_type": "code",
   "execution_count": 114,
   "metadata": {},
   "outputs": [
    {
     "data": {
      "text/plain": [
       "DecisionTreeClassifier(random_state=0)"
      ]
     },
     "execution_count": 114,
     "metadata": {},
     "output_type": "execute_result"
    }
   ],
   "source": [
    "#model training\n",
    "from sklearn import tree\n",
    "\n",
    "dtc = tree.DecisionTreeClassifier(random_state=0)\n",
    "dtc.fit(X_train, y_train)"
   ]
  },
  {
   "cell_type": "code",
   "execution_count": 115,
   "metadata": {},
   "outputs": [
    {
     "name": "stdout",
     "output_type": "stream",
     "text": [
      "Macro-Averaged F1 score using sklearn library : 1.0\n"
     ]
    }
   ],
   "source": [
    "#model evaluation\n",
    "from sklearn import metrics\n",
    "y_pred = dtc.predict(X_test)\n",
    "macro_averaged_f1 = metrics.f1_score(y_test, y_pred, average = 'macro')\n",
    "print(f\"Macro-Averaged F1 score using sklearn library : {macro_averaged_f1}\")"
   ]
  },
  {
   "cell_type": "code",
   "execution_count": 116,
   "metadata": {},
   "outputs": [
    {
     "name": "stdout",
     "output_type": "stream",
     "text": [
      "Micro-Averaged F1 score using sklearn library : 1.0\n"
     ]
    }
   ],
   "source": [
    "micro_averaged_f1 = metrics.f1_score(y_test, y_pred, average = 'micro')\n",
    "print(f\"Micro-Averaged F1 score using sklearn library : {micro_averaged_f1}\")"
   ]
  },
  {
   "cell_type": "code",
   "execution_count": 117,
   "metadata": {},
   "outputs": [],
   "source": [
    "# y_pred"
   ]
  },
  {
   "cell_type": "code",
   "execution_count": 118,
   "metadata": {},
   "outputs": [
    {
     "data": {
      "text/plain": [
       "array(['High', 'High', 'High', ..., 'Low', 'Low', 'Low'], dtype=object)"
      ]
     },
     "execution_count": 118,
     "metadata": {},
     "output_type": "execute_result"
    }
   ],
   "source": [
    "#predict target for testing dataset\n",
    "y_new = dtc.predict(test_data)\n",
    "y_new"
   ]
  },
  {
   "cell_type": "code",
   "execution_count": 119,
   "metadata": {},
   "outputs": [
    {
     "data": {
      "text/html": [
       "<div>\n",
       "<style scoped>\n",
       "    .dataframe tbody tr th:only-of-type {\n",
       "        vertical-align: middle;\n",
       "    }\n",
       "\n",
       "    .dataframe tbody tr th {\n",
       "        vertical-align: top;\n",
       "    }\n",
       "\n",
       "    .dataframe thead th {\n",
       "        text-align: right;\n",
       "    }\n",
       "</style>\n",
       "<table border=\"1\" class=\"dataframe\">\n",
       "  <thead>\n",
       "    <tr style=\"text-align: right;\">\n",
       "      <th></th>\n",
       "      <th>customer_id</th>\n",
       "      <th>shop_id</th>\n",
       "      <th>item_price</th>\n",
       "      <th>quantity_sold</th>\n",
       "      <th>shop_area_sq_ft</th>\n",
       "      <th>month</th>\n",
       "      <th>day</th>\n",
       "      <th>shop_profile</th>\n",
       "    </tr>\n",
       "  </thead>\n",
       "  <tbody>\n",
       "    <tr>\n",
       "      <th>13404</th>\n",
       "      <td>178609</td>\n",
       "      <td>85</td>\n",
       "      <td>0.079815</td>\n",
       "      <td>0.045575</td>\n",
       "      <td>527</td>\n",
       "      <td>10</td>\n",
       "      <td>17</td>\n",
       "      <td>High</td>\n",
       "    </tr>\n",
       "    <tr>\n",
       "      <th>13405</th>\n",
       "      <td>94410</td>\n",
       "      <td>85</td>\n",
       "      <td>-0.279974</td>\n",
       "      <td>0.045575</td>\n",
       "      <td>527</td>\n",
       "      <td>10</td>\n",
       "      <td>19</td>\n",
       "      <td>High</td>\n",
       "    </tr>\n",
       "    <tr>\n",
       "      <th>13406</th>\n",
       "      <td>123658</td>\n",
       "      <td>85</td>\n",
       "      <td>-0.579798</td>\n",
       "      <td>0.045575</td>\n",
       "      <td>527</td>\n",
       "      <td>10</td>\n",
       "      <td>22</td>\n",
       "      <td>High</td>\n",
       "    </tr>\n",
       "    <tr>\n",
       "      <th>13407</th>\n",
       "      <td>123658</td>\n",
       "      <td>85</td>\n",
       "      <td>0.079815</td>\n",
       "      <td>0.045575</td>\n",
       "      <td>527</td>\n",
       "      <td>10</td>\n",
       "      <td>22</td>\n",
       "      <td>High</td>\n",
       "    </tr>\n",
       "    <tr>\n",
       "      <th>13408</th>\n",
       "      <td>120533</td>\n",
       "      <td>85</td>\n",
       "      <td>0.079815</td>\n",
       "      <td>0.045575</td>\n",
       "      <td>527</td>\n",
       "      <td>10</td>\n",
       "      <td>26</td>\n",
       "      <td>High</td>\n",
       "    </tr>\n",
       "  </tbody>\n",
       "</table>\n",
       "</div>"
      ],
      "text/plain": [
       "       customer_id  shop_id  item_price  quantity_sold  shop_area_sq_ft month  \\\n",
       "13404       178609       85    0.079815       0.045575              527    10   \n",
       "13405        94410       85   -0.279974       0.045575              527    10   \n",
       "13406       123658       85   -0.579798       0.045575              527    10   \n",
       "13407       123658       85    0.079815       0.045575              527    10   \n",
       "13408       120533       85    0.079815       0.045575              527    10   \n",
       "\n",
       "      day shop_profile  \n",
       "13404  17         High  \n",
       "13405  19         High  \n",
       "13406  22         High  \n",
       "13407  22         High  \n",
       "13408  26         High  "
      ]
     },
     "execution_count": 119,
     "metadata": {},
     "output_type": "execute_result"
    }
   ],
   "source": [
    "test_data['shop_profile'] = y_new\n",
    "test_data.head()"
   ]
  },
  {
   "cell_type": "code",
   "execution_count": 120,
   "metadata": {},
   "outputs": [
    {
     "name": "stdout",
     "output_type": "stream",
     "text": [
      "        shop_id shop_profile\n",
      "13404        85         High\n",
      "13405        85         High\n",
      "13406        85         High\n",
      "13407        85         High\n",
      "13408        85         High\n",
      "...         ...          ...\n",
      "465377        1          Low\n",
      "465378        1          Low\n",
      "465379        1          Low\n",
      "465380        1          Low\n",
      "465381        1          Low\n",
      "\n",
      "[86633 rows x 2 columns]\n"
     ]
    }
   ],
   "source": [
    "# Create New DataFrame of Specific column by DataFrame.assign() method.\n",
    "df2 = pd.DataFrame().assign(shop_id=test_data['shop_id'], shop_profile=test_data['shop_profile'])\n",
    "print(df2)"
   ]
  },
  {
   "cell_type": "code",
   "execution_count": 121,
   "metadata": {},
   "outputs": [
    {
     "data": {
      "text/html": [
       "<div>\n",
       "<style scoped>\n",
       "    .dataframe tbody tr th:only-of-type {\n",
       "        vertical-align: middle;\n",
       "    }\n",
       "\n",
       "    .dataframe tbody tr th {\n",
       "        vertical-align: top;\n",
       "    }\n",
       "\n",
       "    .dataframe thead th {\n",
       "        text-align: right;\n",
       "    }\n",
       "</style>\n",
       "<table border=\"1\" class=\"dataframe\">\n",
       "  <thead>\n",
       "    <tr style=\"text-align: right;\">\n",
       "      <th></th>\n",
       "      <th>shop_profile</th>\n",
       "    </tr>\n",
       "    <tr>\n",
       "      <th>shop_id</th>\n",
       "      <th></th>\n",
       "    </tr>\n",
       "  </thead>\n",
       "  <tbody>\n",
       "    <tr>\n",
       "      <th>1</th>\n",
       "      <td>Low</td>\n",
       "    </tr>\n",
       "    <tr>\n",
       "      <th>18</th>\n",
       "      <td>Low</td>\n",
       "    </tr>\n",
       "    <tr>\n",
       "      <th>22</th>\n",
       "      <td>Moderate</td>\n",
       "    </tr>\n",
       "    <tr>\n",
       "      <th>23</th>\n",
       "      <td>Low</td>\n",
       "    </tr>\n",
       "    <tr>\n",
       "      <th>28</th>\n",
       "      <td>Moderate</td>\n",
       "    </tr>\n",
       "    <tr>\n",
       "      <th>29</th>\n",
       "      <td>Moderate</td>\n",
       "    </tr>\n",
       "    <tr>\n",
       "      <th>37</th>\n",
       "      <td>Moderate</td>\n",
       "    </tr>\n",
       "    <tr>\n",
       "      <th>43</th>\n",
       "      <td>Moderate</td>\n",
       "    </tr>\n",
       "    <tr>\n",
       "      <th>45</th>\n",
       "      <td>Moderate</td>\n",
       "    </tr>\n",
       "    <tr>\n",
       "      <th>49</th>\n",
       "      <td>Moderate</td>\n",
       "    </tr>\n",
       "    <tr>\n",
       "      <th>55</th>\n",
       "      <td>Moderate</td>\n",
       "    </tr>\n",
       "    <tr>\n",
       "      <th>60</th>\n",
       "      <td>Low</td>\n",
       "    </tr>\n",
       "    <tr>\n",
       "      <th>68</th>\n",
       "      <td>Low</td>\n",
       "    </tr>\n",
       "    <tr>\n",
       "      <th>72</th>\n",
       "      <td>Low</td>\n",
       "    </tr>\n",
       "    <tr>\n",
       "      <th>74</th>\n",
       "      <td>Low</td>\n",
       "    </tr>\n",
       "    <tr>\n",
       "      <th>78</th>\n",
       "      <td>High</td>\n",
       "    </tr>\n",
       "    <tr>\n",
       "      <th>79</th>\n",
       "      <td>High</td>\n",
       "    </tr>\n",
       "    <tr>\n",
       "      <th>85</th>\n",
       "      <td>High</td>\n",
       "    </tr>\n",
       "    <tr>\n",
       "      <th>90</th>\n",
       "      <td>High</td>\n",
       "    </tr>\n",
       "    <tr>\n",
       "      <th>94</th>\n",
       "      <td>Low</td>\n",
       "    </tr>\n",
       "    <tr>\n",
       "      <th>95</th>\n",
       "      <td>Moderate</td>\n",
       "    </tr>\n",
       "    <tr>\n",
       "      <th>105</th>\n",
       "      <td>Low</td>\n",
       "    </tr>\n",
       "    <tr>\n",
       "      <th>106</th>\n",
       "      <td>High</td>\n",
       "    </tr>\n",
       "    <tr>\n",
       "      <th>110</th>\n",
       "      <td>Moderate</td>\n",
       "    </tr>\n",
       "  </tbody>\n",
       "</table>\n",
       "</div>"
      ],
      "text/plain": [
       "        shop_profile\n",
       "shop_id             \n",
       "1                Low\n",
       "18               Low\n",
       "22          Moderate\n",
       "23               Low\n",
       "28          Moderate\n",
       "29          Moderate\n",
       "37          Moderate\n",
       "43          Moderate\n",
       "45          Moderate\n",
       "49          Moderate\n",
       "55          Moderate\n",
       "60               Low\n",
       "68               Low\n",
       "72               Low\n",
       "74               Low\n",
       "78              High\n",
       "79              High\n",
       "85              High\n",
       "90              High\n",
       "94               Low\n",
       "95          Moderate\n",
       "105              Low\n",
       "106             High\n",
       "110         Moderate"
      ]
     },
     "execution_count": 121,
     "metadata": {},
     "output_type": "execute_result"
    }
   ],
   "source": [
    "res = df2.groupby('shop_id')\n",
    "res_df = res.first()\n",
    "res_df"
   ]
  },
  {
   "cell_type": "code",
   "execution_count": 122,
   "metadata": {},
   "outputs": [
    {
     "name": "stdout",
     "output_type": "stream",
     "text": [
      "shop_id\n",
      "1        1\n",
      "18      18\n",
      "22      22\n",
      "23      23\n",
      "28      28\n",
      "29      29\n",
      "37      37\n",
      "43      43\n",
      "45      45\n",
      "49      49\n",
      "55      55\n",
      "60      60\n",
      "68      68\n",
      "72      72\n",
      "74      74\n",
      "78      78\n",
      "79      79\n",
      "85      85\n",
      "90      90\n",
      "94      94\n",
      "95      95\n",
      "105    105\n",
      "106    106\n",
      "110    110\n",
      "Name: shop_id, dtype: int32\n"
     ]
    }
   ],
   "source": [
    "arr = res['shop_id'].unique().astype(int)\n",
    "print(arr)"
   ]
  },
  {
   "cell_type": "code",
   "execution_count": 123,
   "metadata": {},
   "outputs": [],
   "source": [
    "# To get labels from values \n",
    "arr2 = le.inverse_transform(arr)"
   ]
  },
  {
   "cell_type": "code",
   "execution_count": 124,
   "metadata": {},
   "outputs": [
    {
     "data": {
      "text/plain": [
       "array(['SHOP002', 'SHOP019', 'SHOP023', 'SHOP024', 'SHOP029', 'SHOP030',\n",
       "       'SHOP038', 'SHOP044', 'SHOP046', 'SHOP050', 'SHOP056', 'SHOP061',\n",
       "       'SHOP070', 'SHOP074', 'SHOP076', 'SHOP080', 'SHOP081', 'SHOP087',\n",
       "       'SHOP092', 'SHOP096', 'SHOP097', 'SHOP107', 'SHOP108', 'SHOP114'],\n",
       "      dtype=object)"
      ]
     },
     "execution_count": 124,
     "metadata": {},
     "output_type": "execute_result"
    }
   ],
   "source": [
    "arr2"
   ]
  },
  {
   "cell_type": "code",
   "execution_count": 125,
   "metadata": {},
   "outputs": [
    {
     "data": {
      "text/html": [
       "<div>\n",
       "<style scoped>\n",
       "    .dataframe tbody tr th:only-of-type {\n",
       "        vertical-align: middle;\n",
       "    }\n",
       "\n",
       "    .dataframe tbody tr th {\n",
       "        vertical-align: top;\n",
       "    }\n",
       "\n",
       "    .dataframe thead th {\n",
       "        text-align: right;\n",
       "    }\n",
       "</style>\n",
       "<table border=\"1\" class=\"dataframe\">\n",
       "  <thead>\n",
       "    <tr style=\"text-align: right;\">\n",
       "      <th></th>\n",
       "      <th>shop_id</th>\n",
       "      <th>shop_profile</th>\n",
       "    </tr>\n",
       "  </thead>\n",
       "  <tbody>\n",
       "    <tr>\n",
       "      <th>0</th>\n",
       "      <td>SHOP002</td>\n",
       "      <td>Low</td>\n",
       "    </tr>\n",
       "    <tr>\n",
       "      <th>1</th>\n",
       "      <td>SHOP019</td>\n",
       "      <td>Low</td>\n",
       "    </tr>\n",
       "    <tr>\n",
       "      <th>2</th>\n",
       "      <td>SHOP023</td>\n",
       "      <td>Moderate</td>\n",
       "    </tr>\n",
       "    <tr>\n",
       "      <th>3</th>\n",
       "      <td>SHOP024</td>\n",
       "      <td>Low</td>\n",
       "    </tr>\n",
       "    <tr>\n",
       "      <th>4</th>\n",
       "      <td>SHOP029</td>\n",
       "      <td>Moderate</td>\n",
       "    </tr>\n",
       "    <tr>\n",
       "      <th>5</th>\n",
       "      <td>SHOP030</td>\n",
       "      <td>Moderate</td>\n",
       "    </tr>\n",
       "    <tr>\n",
       "      <th>6</th>\n",
       "      <td>SHOP038</td>\n",
       "      <td>Moderate</td>\n",
       "    </tr>\n",
       "    <tr>\n",
       "      <th>7</th>\n",
       "      <td>SHOP044</td>\n",
       "      <td>Moderate</td>\n",
       "    </tr>\n",
       "    <tr>\n",
       "      <th>8</th>\n",
       "      <td>SHOP046</td>\n",
       "      <td>Moderate</td>\n",
       "    </tr>\n",
       "    <tr>\n",
       "      <th>9</th>\n",
       "      <td>SHOP050</td>\n",
       "      <td>Moderate</td>\n",
       "    </tr>\n",
       "    <tr>\n",
       "      <th>10</th>\n",
       "      <td>SHOP056</td>\n",
       "      <td>Moderate</td>\n",
       "    </tr>\n",
       "    <tr>\n",
       "      <th>11</th>\n",
       "      <td>SHOP061</td>\n",
       "      <td>Low</td>\n",
       "    </tr>\n",
       "    <tr>\n",
       "      <th>12</th>\n",
       "      <td>SHOP070</td>\n",
       "      <td>Low</td>\n",
       "    </tr>\n",
       "    <tr>\n",
       "      <th>13</th>\n",
       "      <td>SHOP074</td>\n",
       "      <td>Low</td>\n",
       "    </tr>\n",
       "    <tr>\n",
       "      <th>14</th>\n",
       "      <td>SHOP076</td>\n",
       "      <td>Low</td>\n",
       "    </tr>\n",
       "    <tr>\n",
       "      <th>15</th>\n",
       "      <td>SHOP080</td>\n",
       "      <td>High</td>\n",
       "    </tr>\n",
       "    <tr>\n",
       "      <th>16</th>\n",
       "      <td>SHOP081</td>\n",
       "      <td>High</td>\n",
       "    </tr>\n",
       "    <tr>\n",
       "      <th>17</th>\n",
       "      <td>SHOP087</td>\n",
       "      <td>High</td>\n",
       "    </tr>\n",
       "    <tr>\n",
       "      <th>18</th>\n",
       "      <td>SHOP092</td>\n",
       "      <td>High</td>\n",
       "    </tr>\n",
       "    <tr>\n",
       "      <th>19</th>\n",
       "      <td>SHOP096</td>\n",
       "      <td>Low</td>\n",
       "    </tr>\n",
       "    <tr>\n",
       "      <th>20</th>\n",
       "      <td>SHOP097</td>\n",
       "      <td>Moderate</td>\n",
       "    </tr>\n",
       "    <tr>\n",
       "      <th>21</th>\n",
       "      <td>SHOP107</td>\n",
       "      <td>Low</td>\n",
       "    </tr>\n",
       "    <tr>\n",
       "      <th>22</th>\n",
       "      <td>SHOP108</td>\n",
       "      <td>High</td>\n",
       "    </tr>\n",
       "    <tr>\n",
       "      <th>23</th>\n",
       "      <td>SHOP114</td>\n",
       "      <td>Moderate</td>\n",
       "    </tr>\n",
       "  </tbody>\n",
       "</table>\n",
       "</div>"
      ],
      "text/plain": [
       "    shop_id shop_profile\n",
       "0   SHOP002          Low\n",
       "1   SHOP019          Low\n",
       "2   SHOP023     Moderate\n",
       "3   SHOP024          Low\n",
       "4   SHOP029     Moderate\n",
       "5   SHOP030     Moderate\n",
       "6   SHOP038     Moderate\n",
       "7   SHOP044     Moderate\n",
       "8   SHOP046     Moderate\n",
       "9   SHOP050     Moderate\n",
       "10  SHOP056     Moderate\n",
       "11  SHOP061          Low\n",
       "12  SHOP070          Low\n",
       "13  SHOP074          Low\n",
       "14  SHOP076          Low\n",
       "15  SHOP080         High\n",
       "16  SHOP081         High\n",
       "17  SHOP087         High\n",
       "18  SHOP092         High\n",
       "19  SHOP096          Low\n",
       "20  SHOP097     Moderate\n",
       "21  SHOP107          Low\n",
       "22  SHOP108         High\n",
       "23  SHOP114     Moderate"
      ]
     },
     "execution_count": 125,
     "metadata": {},
     "output_type": "execute_result"
    }
   ],
   "source": [
    "# new = pd.DataFrame({'code': arr, 'shop_id': arr2})\n",
    "new = pd.DataFrame(data=np.column_stack((arr,arr2)),columns=['code','shop_id'])\n",
    "new = pd.merge(new, res_df,left_on='code', right_on='shop_id')\n",
    "new = new.drop('code', axis=1)\n",
    "new"
   ]
  },
  {
   "cell_type": "code",
   "execution_count": 126,
   "metadata": {},
   "outputs": [],
   "source": [
    "#save dataframe into csv file\n",
    "new.to_csv('Testing-data.csv', index=False)"
   ]
  },
  {
   "cell_type": "code",
   "execution_count": null,
   "metadata": {},
   "outputs": [],
   "source": []
  }
 ],
 "metadata": {
  "kernelspec": {
   "display_name": "Python 3",
   "language": "python",
   "name": "python3"
  },
  "language_info": {
   "codemirror_mode": {
    "name": "ipython",
    "version": 3
   },
   "file_extension": ".py",
   "mimetype": "text/x-python",
   "name": "python",
   "nbconvert_exporter": "python",
   "pygments_lexer": "ipython3",
   "version": "3.8.5"
  }
 },
 "nbformat": 4,
 "nbformat_minor": 4
}
