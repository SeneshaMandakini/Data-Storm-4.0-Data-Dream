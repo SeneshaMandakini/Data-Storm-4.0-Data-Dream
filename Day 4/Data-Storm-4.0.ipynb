{
 "cells": [
  {
   "cell_type": "markdown",
   "metadata": {},
   "source": [
    "**Loading Data**"
   ]
  },
  {
   "cell_type": "code",
   "execution_count": 379,
   "metadata": {},
   "outputs": [],
   "source": [
    "#Import libraries\n",
    "import pandas as pd\n",
    "\n",
    "#load datasets\n",
    "historical_data = pd.read_csv(r'C:\\Users\\user\\Desktop\\Data-Storm-4\\data-storm-4\\Historical-transaction-data.csv')\n",
    "store_data = pd.read_csv(r'C:\\Users\\user\\Desktop\\Data-Storm-4\\data-storm-4\\Store-info.csv')"
   ]
  },
  {
   "cell_type": "code",
   "execution_count": 380,
   "metadata": {},
   "outputs": [
    {
     "data": {
      "text/plain": [
       "Index(['item_description', 'transaction_date', 'invoice_id', 'customer_id',\n",
       "       'shop_id', 'item_price', 'quantity_sold'],\n",
       "      dtype='object')"
      ]
     },
     "execution_count": 380,
     "metadata": {},
     "output_type": "execute_result"
    }
   ],
   "source": [
    "#columns of historical dataset\n",
    "historical_data.columns"
   ]
  },
  {
   "cell_type": "code",
   "execution_count": 381,
   "metadata": {},
   "outputs": [
    {
     "data": {
      "text/plain": [
       "Index(['shop_id', 'shop_area_sq_ft', 'shop_profile'], dtype='object')"
      ]
     },
     "execution_count": 381,
     "metadata": {},
     "output_type": "execute_result"
    }
   ],
   "source": [
    "#columns of store dataset\n",
    "store_data.columns"
   ]
  },
  {
   "cell_type": "markdown",
   "metadata": {},
   "source": [
    "**Pre-processing Historical Transaction Data**"
   ]
  },
  {
   "cell_type": "code",
   "execution_count": 382,
   "metadata": {},
   "outputs": [
    {
     "data": {
      "text/plain": [
       "3317818"
      ]
     },
     "execution_count": 382,
     "metadata": {},
     "output_type": "execute_result"
    }
   ],
   "source": [
    "historical_data.size"
   ]
  },
  {
   "cell_type": "code",
   "execution_count": 383,
   "metadata": {},
   "outputs": [
    {
     "data": {
      "text/plain": [
       "item_description     object\n",
       "transaction_date     object\n",
       "invoice_id          float64\n",
       "customer_id          object\n",
       "shop_id              object\n",
       "item_price            int64\n",
       "quantity_sold         int64\n",
       "dtype: object"
      ]
     },
     "execution_count": 383,
     "metadata": {},
     "output_type": "execute_result"
    }
   ],
   "source": [
    "historical_data.dtypes"
   ]
  },
  {
   "cell_type": "code",
   "execution_count": 384,
   "metadata": {},
   "outputs": [
    {
     "name": "stdout",
     "output_type": "stream",
     "text": [
      "<class 'pandas.core.frame.DataFrame'>\n",
      "RangeIndex: 473974 entries, 0 to 473973\n",
      "Data columns (total 7 columns):\n",
      " #   Column            Non-Null Count   Dtype  \n",
      "---  ------            --------------   -----  \n",
      " 0   item_description  438046 non-null  object \n",
      " 1   transaction_date  473974 non-null  object \n",
      " 2   invoice_id        467654 non-null  float64\n",
      " 3   customer_id       473974 non-null  object \n",
      " 4   shop_id           473974 non-null  object \n",
      " 5   item_price        473974 non-null  int64  \n",
      " 6   quantity_sold     473974 non-null  int64  \n",
      "dtypes: float64(1), int64(2), object(4)\n",
      "memory usage: 25.3+ MB\n"
     ]
    }
   ],
   "source": [
    "historical_data.info()"
   ]
  },
  {
   "cell_type": "code",
   "execution_count": 385,
   "metadata": {},
   "outputs": [
    {
     "data": {
      "text/plain": [
       "(473974, 7)"
      ]
     },
     "execution_count": 385,
     "metadata": {},
     "output_type": "execute_result"
    }
   ],
   "source": [
    "historical_data.shape"
   ]
  },
  {
   "cell_type": "code",
   "execution_count": 386,
   "metadata": {},
   "outputs": [
    {
     "data": {
      "text/html": [
       "<div>\n",
       "<style scoped>\n",
       "    .dataframe tbody tr th:only-of-type {\n",
       "        vertical-align: middle;\n",
       "    }\n",
       "\n",
       "    .dataframe tbody tr th {\n",
       "        vertical-align: top;\n",
       "    }\n",
       "\n",
       "    .dataframe thead th {\n",
       "        text-align: right;\n",
       "    }\n",
       "</style>\n",
       "<table border=\"1\" class=\"dataframe\">\n",
       "  <thead>\n",
       "    <tr style=\"text-align: right;\">\n",
       "      <th></th>\n",
       "      <th>item_description</th>\n",
       "      <th>transaction_date</th>\n",
       "      <th>invoice_id</th>\n",
       "      <th>customer_id</th>\n",
       "      <th>shop_id</th>\n",
       "      <th>item_price</th>\n",
       "      <th>quantity_sold</th>\n",
       "    </tr>\n",
       "  </thead>\n",
       "  <tbody>\n",
       "    <tr>\n",
       "      <th>0</th>\n",
       "      <td>ORANGE BARLEY 1.5L</td>\n",
       "      <td>2021-12-11T00:00:00.000Z</td>\n",
       "      <td>147.0</td>\n",
       "      <td>BGXA</td>\n",
       "      <td>SHOP008</td>\n",
       "      <td>220</td>\n",
       "      <td>2</td>\n",
       "    </tr>\n",
       "    <tr>\n",
       "      <th>1</th>\n",
       "      <td>GINGER BEER 1.5L</td>\n",
       "      <td>2021-10-17T00:00:00.000Z</td>\n",
       "      <td>371.0</td>\n",
       "      <td>IA25</td>\n",
       "      <td>SHOP112</td>\n",
       "      <td>220</td>\n",
       "      <td>2</td>\n",
       "    </tr>\n",
       "    <tr>\n",
       "      <th>2</th>\n",
       "      <td>TONIC PET 500ML</td>\n",
       "      <td>2021-12-13T00:00:00.000Z</td>\n",
       "      <td>484.0</td>\n",
       "      <td>VN7V</td>\n",
       "      <td>SHOP008</td>\n",
       "      <td>160</td>\n",
       "      <td>2</td>\n",
       "    </tr>\n",
       "    <tr>\n",
       "      <th>3</th>\n",
       "      <td>CREAM SODA 1L</td>\n",
       "      <td>2021-12-13T00:00:00.000Z</td>\n",
       "      <td>484.0</td>\n",
       "      <td>VN7V</td>\n",
       "      <td>SHOP008</td>\n",
       "      <td>150</td>\n",
       "      <td>2</td>\n",
       "    </tr>\n",
       "    <tr>\n",
       "      <th>4</th>\n",
       "      <td>STRAWBERRY MILK 180ML</td>\n",
       "      <td>2021-10-23T00:00:00.000Z</td>\n",
       "      <td>1310.0</td>\n",
       "      <td>7S00</td>\n",
       "      <td>SHOP112</td>\n",
       "      <td>210</td>\n",
       "      <td>5</td>\n",
       "    </tr>\n",
       "  </tbody>\n",
       "</table>\n",
       "</div>"
      ],
      "text/plain": [
       "        item_description          transaction_date  invoice_id customer_id  \\\n",
       "0     ORANGE BARLEY 1.5L  2021-12-11T00:00:00.000Z       147.0        BGXA   \n",
       "1       GINGER BEER 1.5L  2021-10-17T00:00:00.000Z       371.0        IA25   \n",
       "2        TONIC PET 500ML  2021-12-13T00:00:00.000Z       484.0        VN7V   \n",
       "3          CREAM SODA 1L  2021-12-13T00:00:00.000Z       484.0        VN7V   \n",
       "4  STRAWBERRY MILK 180ML  2021-10-23T00:00:00.000Z      1310.0        7S00   \n",
       "\n",
       "   shop_id  item_price  quantity_sold  \n",
       "0  SHOP008         220              2  \n",
       "1  SHOP112         220              2  \n",
       "2  SHOP008         160              2  \n",
       "3  SHOP008         150              2  \n",
       "4  SHOP112         210              5  "
      ]
     },
     "execution_count": 386,
     "metadata": {},
     "output_type": "execute_result"
    }
   ],
   "source": [
    "historical_data.head()"
   ]
  },
  {
   "cell_type": "code",
   "execution_count": 387,
   "metadata": {},
   "outputs": [
    {
     "name": "stdout",
     "output_type": "stream",
     "text": [
      "['item_description', 'transaction_date', 'customer_id', 'shop_id']\n"
     ]
    }
   ],
   "source": [
    "#get categorical features\n",
    "categorical_features = [column for column in historical_data.columns if historical_data[column].dtype == object]\n",
    "print(categorical_features)"
   ]
  },
  {
   "cell_type": "code",
   "execution_count": 388,
   "metadata": {},
   "outputs": [
    {
     "name": "stdout",
     "output_type": "stream",
     "text": [
      "item_description\n",
      "GINGER BEER 1.5L                59864\n",
      "CREAM SODA 1.5L                 39608\n",
      "CREAM SODA 500ML                34320\n",
      "GINGER BEER 1L                  26808\n",
      "ORANGE BARLEY 1.5L              23180\n",
      "NECTO 1.5L                      21746\n",
      "SODA 500ML                      16802\n",
      "BOTTLED DRINKING WATER 500ML    15786\n",
      "SODA PET 1.5L                   15652\n",
      "FIT O ORANGE 1L                 15392\n",
      "LEMONADE 1.5L                   13433\n",
      "SODA 1L                         13151\n",
      "TONIC PET 500ML                 12704\n",
      "GINGER BEER 500ML               11939\n",
      "CREAM SODA APPLE POP 1L         11736\n",
      "FIT O ORANGE 200ML               9490\n",
      "BOTTLED DRINKING WATER 1.5L      9194\n",
      "ORANGE CRUSH 1.5L                8288\n",
      "FIT O MIXED FRUIT 200ML          7618\n",
      "FIT O MIXED FRUIT 1L             7124\n",
      "FIT O MANGO 1L                   6664\n",
      "LEMONADE 500ML                   6453\n",
      "FIT O MANGO 200ML                6333\n",
      "GINGER BEER SUGAR FREE 500ML     5980\n",
      "DRY GINGER ALE PET 500ML         5894\n",
      "STRAWBERRY MILK 180ML            5530\n",
      "ORANGE CRUSH 500ML               4714\n",
      "TWISTEE APPLE 1L                 3930\n",
      "NECTO 500ML                      3811\n",
      "CREAM SODA 1L                    3668\n",
      "GINGER BEER 400ML                3250\n",
      "KIK COLA 1L                      2412\n",
      "LEMONADE 1L                      2222\n",
      "ORANGE CRUSH 1L                  1635\n",
      "NECTO 1L                         1595\n",
      "LIME CRUSH JUICE 1L                80\n",
      "CHOCOLATE MILK 180ML               40\n",
      "Name: item_description, dtype: int64\n",
      "transaction_date\n",
      "2021-12-11T00:00:00.000Z    15125\n",
      "2021-12-12T00:00:00.000Z    12950\n",
      "2021-11-27T00:00:00.000Z    12078\n",
      "2021-12-10T00:00:00.000Z    11693\n",
      "2021-12-04T00:00:00.000Z    11617\n",
      "                            ...  \n",
      "2021-11-16T00:00:00.000Z     4642\n",
      "2021-11-24T00:00:00.000Z     4468\n",
      "2021-11-09T00:00:00.000Z     4404\n",
      "2021-11-15T00:00:00.000Z     4215\n",
      "2021-11-08T00:00:00.000Z     3943\n",
      "Name: transaction_date, Length: 62, dtype: int64\n",
      "customer_id\n",
      "RX33    95\n",
      "05QX    90\n",
      "46C7    81\n",
      "Z7JA    74\n",
      "L82A    62\n",
      "        ..\n",
      "SZ3O     1\n",
      "0NTB     1\n",
      "4H17     1\n",
      "H49Q     1\n",
      "ERY4     1\n",
      "Name: customer_id, Length: 191636, dtype: int64\n",
      "shop_id\n",
      "SHOP043    6631\n",
      "SHOP011    6359\n",
      "SHOP082    6048\n",
      "SHOP111    6027\n",
      "SHOP086    6016\n",
      "           ... \n",
      "SHOP001    2020\n",
      "SHOP107    1962\n",
      "SHOP125    1866\n",
      "SHOP047    1692\n",
      "SHOP008     272\n",
      "Name: shop_id, Length: 124, dtype: int64\n"
     ]
    }
   ],
   "source": [
    "#Check different values of each categorical feature\n",
    "for x in categorical_features:\n",
    "    print(x)\n",
    "    print(historical_data[x].value_counts())"
   ]
  },
  {
   "cell_type": "code",
   "execution_count": 389,
   "metadata": {},
   "outputs": [
    {
     "data": {
      "text/html": [
       "<div>\n",
       "<style scoped>\n",
       "    .dataframe tbody tr th:only-of-type {\n",
       "        vertical-align: middle;\n",
       "    }\n",
       "\n",
       "    .dataframe tbody tr th {\n",
       "        vertical-align: top;\n",
       "    }\n",
       "\n",
       "    .dataframe thead th {\n",
       "        text-align: right;\n",
       "    }\n",
       "</style>\n",
       "<table border=\"1\" class=\"dataframe\">\n",
       "  <thead>\n",
       "    <tr style=\"text-align: right;\">\n",
       "      <th></th>\n",
       "      <th>invoice_id</th>\n",
       "      <th>item_price</th>\n",
       "      <th>quantity_sold</th>\n",
       "    </tr>\n",
       "  </thead>\n",
       "  <tbody>\n",
       "    <tr>\n",
       "      <th>count</th>\n",
       "      <td>4.676540e+05</td>\n",
       "      <td>473974.000000</td>\n",
       "      <td>473974.000000</td>\n",
       "    </tr>\n",
       "    <tr>\n",
       "      <th>mean</th>\n",
       "      <td>1.996684e+06</td>\n",
       "      <td>206.689734</td>\n",
       "      <td>1.925506</td>\n",
       "    </tr>\n",
       "    <tr>\n",
       "      <th>std</th>\n",
       "      <td>1.344594e+06</td>\n",
       "      <td>166.764732</td>\n",
       "      <td>1.634535</td>\n",
       "    </tr>\n",
       "    <tr>\n",
       "      <th>min</th>\n",
       "      <td>1.700000e+01</td>\n",
       "      <td>35.000000</td>\n",
       "      <td>-1.000000</td>\n",
       "    </tr>\n",
       "    <tr>\n",
       "      <th>25%</th>\n",
       "      <td>1.032114e+06</td>\n",
       "      <td>100.000000</td>\n",
       "      <td>1.000000</td>\n",
       "    </tr>\n",
       "    <tr>\n",
       "      <th>50%</th>\n",
       "      <td>2.032996e+06</td>\n",
       "      <td>200.000000</td>\n",
       "      <td>2.000000</td>\n",
       "    </tr>\n",
       "    <tr>\n",
       "      <th>75%</th>\n",
       "      <td>3.032568e+06</td>\n",
       "      <td>220.000000</td>\n",
       "      <td>2.000000</td>\n",
       "    </tr>\n",
       "    <tr>\n",
       "      <th>max</th>\n",
       "      <td>8.331754e+06</td>\n",
       "      <td>17400.000000</td>\n",
       "      <td>101.000000</td>\n",
       "    </tr>\n",
       "  </tbody>\n",
       "</table>\n",
       "</div>"
      ],
      "text/plain": [
       "         invoice_id     item_price  quantity_sold\n",
       "count  4.676540e+05  473974.000000  473974.000000\n",
       "mean   1.996684e+06     206.689734       1.925506\n",
       "std    1.344594e+06     166.764732       1.634535\n",
       "min    1.700000e+01      35.000000      -1.000000\n",
       "25%    1.032114e+06     100.000000       1.000000\n",
       "50%    2.032996e+06     200.000000       2.000000\n",
       "75%    3.032568e+06     220.000000       2.000000\n",
       "max    8.331754e+06   17400.000000     101.000000"
      ]
     },
     "execution_count": 389,
     "metadata": {},
     "output_type": "execute_result"
    }
   ],
   "source": [
    "historical_data.describe()"
   ]
  },
  {
   "cell_type": "code",
   "execution_count": 390,
   "metadata": {},
   "outputs": [
    {
     "data": {
      "text/plain": [
       "item_description    35928\n",
       "transaction_date        0\n",
       "invoice_id           6320\n",
       "customer_id             0\n",
       "shop_id                 0\n",
       "item_price              0\n",
       "quantity_sold           0\n",
       "dtype: int64"
      ]
     },
     "execution_count": 390,
     "metadata": {},
     "output_type": "execute_result"
    }
   ],
   "source": [
    "#Check null values\n",
    "historical_data.isnull().sum()"
   ]
  },
  {
   "cell_type": "code",
   "execution_count": 391,
   "metadata": {},
   "outputs": [
    {
     "data": {
      "text/plain": [
       "<AxesSubplot:>"
      ]
     },
     "execution_count": 391,
     "metadata": {},
     "output_type": "execute_result"
    },
    {
     "data": {
      "image/png": "[encoded data removed]",
      "text/plain": [
       "<Figure size 1440x1080 with 1 Axes>"
      ]
     },
     "metadata": {
      "needs_background": "light"
     },
     "output_type": "display_data"
    }
   ],
   "source": [
    "import matplotlib.pyplot as plt\n",
    "import seaborn as sns\n",
    "\n",
    "plt.subplots(figsize=(20,15))\n",
    "sns.heatmap(historical_data.isnull(), yticklabels=False, cbar=False, cmap='viridis')"
   ]
  },
  {
   "cell_type": "code",
   "execution_count": 392,
   "metadata": {},
   "outputs": [],
   "source": [
    "# Drop columns\n",
    "historical_data.drop(columns=[\"item_description\",\"invoice_id\"], inplace=True)"
   ]
  },
  {
   "cell_type": "code",
   "execution_count": 393,
   "metadata": {},
   "outputs": [
    {
     "data": {
      "text/plain": [
       "transaction_date    0\n",
       "customer_id         0\n",
       "shop_id             0\n",
       "item_price          0\n",
       "quantity_sold       0\n",
       "dtype: int64"
      ]
     },
     "execution_count": 393,
     "metadata": {},
     "output_type": "execute_result"
    }
   ],
   "source": [
    "historical_data.isnull().sum()"
   ]
  },
  {
   "cell_type": "code",
   "execution_count": null,
   "metadata": {},
   "outputs": [],
   "source": [
    "import matplotlib.pyplot as plt\n",
    "import seaborn as sns\n",
    "\n",
    "plt.subplots(figsize=(20,15))\n",
    "sns.heatmap(historical_data.isnull(), yticklabels=False, cbar=False, cmap='viridis')"
   ]
  },
  {
   "cell_type": "code",
   "execution_count": null,
   "metadata": {},
   "outputs": [],
   "source": [
    "#Scaling data\n",
    "from sklearn.preprocessing import StandardScaler\n",
    "\n",
    "scaler = StandardScaler()\n",
    "numeric_features = ['item_price', 'quantity_sold']\n",
    "historical_data[numeric_features] = scaler.fit_transform(historical_data[numeric_features])\n",
    "\n",
    "historical_data.head()"
   ]
  },
  {
   "cell_type": "markdown",
   "metadata": {},
   "source": [
    "**Preporocessing Store Data**"
   ]
  },
  {
   "cell_type": "code",
   "execution_count": null,
   "metadata": {},
   "outputs": [],
   "source": [
    "store_data.size"
   ]
  },
  {
   "cell_type": "code",
   "execution_count": null,
   "metadata": {},
   "outputs": [],
   "source": [
    "store_data.info()"
   ]
  },
  {
   "cell_type": "markdown",
   "metadata": {},
   "source": [
    "**Create Master Table**"
   ]
  },
  {
   "cell_type": "code",
   "execution_count": null,
   "metadata": {},
   "outputs": [],
   "source": [
    "#Mearge two datasets\n",
    "df = pd.merge(historical_data, store_data)"
   ]
  },
  {
   "cell_type": "code",
   "execution_count": null,
   "metadata": {},
   "outputs": [],
   "source": [
    "# df.head()"
   ]
  },
  {
   "cell_type": "code",
   "execution_count": null,
   "metadata": {},
   "outputs": [],
   "source": [
    "df.size"
   ]
  },
  {
   "cell_type": "code",
   "execution_count": null,
   "metadata": {},
   "outputs": [],
   "source": [
    "#Divide transaction_data feature into two features\n",
    "df['Date'], df['timestamp'] = df['transaction_date'].str.split('T', 1).str"
   ]
  },
  {
   "cell_type": "code",
   "execution_count": null,
   "metadata": {},
   "outputs": [],
   "source": [
    "# df"
   ]
  },
  {
   "cell_type": "code",
   "execution_count": null,
   "metadata": {},
   "outputs": [],
   "source": [
    "#drop timestamp column bcz its value is same for all rows\n",
    "df = df.drop('timestamp', axis=1)"
   ]
  },
  {
   "cell_type": "code",
   "execution_count": null,
   "metadata": {},
   "outputs": [],
   "source": [
    "#Divide Date feature into three features\n",
    "df['year'], df['month'], df['day'] = df['Date'].str.split('-', 2).str"
   ]
  },
  {
   "cell_type": "code",
   "execution_count": null,
   "metadata": {},
   "outputs": [],
   "source": [
    "# df.head()"
   ]
  },
  {
   "cell_type": "code",
   "execution_count": null,
   "metadata": {},
   "outputs": [],
   "source": [
    "#drop columns bcz their values are same for all rows\n",
    "df = df.drop(['Date', 'year', 'transaction_date'], axis=1)\n",
    "df.head()"
   ]
  },
  {
   "cell_type": "code",
   "execution_count": null,
   "metadata": {},
   "outputs": [],
   "source": [
    "#Encoding categorical features\n",
    "from sklearn.preprocessing import LabelEncoder\n",
    "\n",
    "le = LabelEncoder()\n",
    "df['customer_id'] = le.fit_transform(df['customer_id'])\n",
    "df['shop_id'] = le.fit_transform(df['shop_id'])\n",
    "df"
   ]
  },
  {
   "cell_type": "code",
   "execution_count": null,
   "metadata": {},
   "outputs": [],
   "source": [
    "#Seperate records for testing data\n",
    "import numpy as np\n",
    "\n",
    "test_data = df[df['shop_profile'].isnull()]\n",
    "test_data = test_data.drop('shop_profile', axis=1)\n",
    "test_data.head()"
   ]
  },
  {
   "cell_type": "code",
   "execution_count": null,
   "metadata": {},
   "outputs": [],
   "source": [
    "#drop rows with null values\n",
    "df = df.dropna()"
   ]
  },
  {
   "cell_type": "code",
   "execution_count": null,
   "metadata": {},
   "outputs": [],
   "source": [
    "df[df.isnull().any(axis=1)]"
   ]
  },
  {
   "cell_type": "markdown",
   "metadata": {},
   "source": [
    "**Model Creation**"
   ]
  },
  {
   "cell_type": "code",
   "execution_count": null,
   "metadata": {},
   "outputs": [],
   "source": [
    "#seperate features\n",
    "feature = df.drop('shop_profile', axis=1)"
   ]
  },
  {
   "cell_type": "code",
   "execution_count": null,
   "metadata": {},
   "outputs": [],
   "source": [
    "#seperate target\n",
    "target = df['shop_profile']"
   ]
  },
  {
   "cell_type": "code",
   "execution_count": null,
   "metadata": {},
   "outputs": [],
   "source": [
    "# feature.head()"
   ]
  },
  {
   "cell_type": "code",
   "execution_count": null,
   "metadata": {},
   "outputs": [],
   "source": [
    "# target.head()"
   ]
  },
  {
   "cell_type": "code",
   "execution_count": null,
   "metadata": {},
   "outputs": [],
   "source": [
    "#split data into train and test sets\n",
    "from sklearn.model_selection import train_test_split\n",
    "\n",
    "X_train, X_test, y_train, y_test = train_test_split(feature, target, test_size=0.2, random_state=1)"
   ]
  },
  {
   "cell_type": "code",
   "execution_count": null,
   "metadata": {},
   "outputs": [],
   "source": [
    "# X_train.shape"
   ]
  },
  {
   "cell_type": "code",
   "execution_count": null,
   "metadata": {},
   "outputs": [],
   "source": [
    "# X_test.shape"
   ]
  },
  {
   "cell_type": "code",
   "execution_count": null,
   "metadata": {},
   "outputs": [],
   "source": [
    "# y_train.shape"
   ]
  },
  {
   "cell_type": "code",
   "execution_count": null,
   "metadata": {},
   "outputs": [],
   "source": [
    "# y_test.shape"
   ]
  },
  {
   "cell_type": "code",
   "execution_count": null,
   "metadata": {},
   "outputs": [],
   "source": [
    "#model training\n",
    "from sklearn import tree\n",
    "from sklearn.model_selection import GridSearchCV\n",
    "\n",
    "dtc = tree.DecisionTreeClassifier(random_state=0)\n",
    "\n",
    "params = {\n",
    "    'min_samples_leaf': [1,2,3],\n",
    "    'max_depth': [1,2,3]\n",
    "}\n",
    "grid = GridSearchCV(estimator=dtc,\n",
    "                   param_grid=params,\n",
    "                   cv=10,\n",
    "                   n_jobs=1,\n",
    "                   verbose=2)\n",
    "\n",
    "dtc.fit(X_train, y_train)"
   ]
  },
  {
   "cell_type": "code",
   "execution_count": null,
   "metadata": {},
   "outputs": [],
   "source": [
    "#model evaluation\n",
    "from sklearn import metrics\n",
    "y_pred = dtc.predict(X_test)\n",
    "prec = metrics.precision_score(y_test, y_pred, average='macro')\n",
    "rec = metrics.recall_score(y_test, y_pred, average='macro')\n",
    "f1 = metrics.f1_score(y_test, y_pred, average = 'macro')\n",
    "print(f\"Precision score : {prec}\")\n",
    "print(f\"Recall score : {rec}\")\n",
    "print(f\"F1 score : {f1}\")"
   ]
  },
  {
   "cell_type": "code",
   "execution_count": null,
   "metadata": {},
   "outputs": [],
   "source": [
    "# micro_averaged_f1 = metrics.f1_score(y_test, y_pred, average = 'micro')\n",
    "# print(f\"Micro-Averaged F1 score using sklearn library : {micro_averaged_f1}\")"
   ]
  },
  {
   "cell_type": "code",
   "execution_count": null,
   "metadata": {},
   "outputs": [],
   "source": [
    "from sklearn.metrics import classification_report\n",
    "print(classification_report(y_test, y_pred, target_names = ['High', 'Moderate', 'Low']))"
   ]
  },
  {
   "cell_type": "code",
   "execution_count": null,
   "metadata": {},
   "outputs": [],
   "source": [
    "# y_pred"
   ]
  },
  {
   "cell_type": "code",
   "execution_count": null,
   "metadata": {},
   "outputs": [],
   "source": [
    "#predict target for testing dataset\n",
    "y_new = dtc.predict(test_data)\n",
    "y_new"
   ]
  },
  {
   "cell_type": "code",
   "execution_count": null,
   "metadata": {},
   "outputs": [],
   "source": [
    "test_data['shop_profile'] = y_new\n",
    "test_data.head()"
   ]
  },
  {
   "cell_type": "code",
   "execution_count": null,
   "metadata": {},
   "outputs": [],
   "source": [
    "# Create New DataFrame of Specific column by DataFrame.assign() method.\n",
    "df2 = pd.DataFrame().assign(shop_id=test_data['shop_id'], shop_profile=test_data['shop_profile'])\n",
    "print(df2)"
   ]
  },
  {
   "cell_type": "code",
   "execution_count": null,
   "metadata": {},
   "outputs": [],
   "source": [
    "res = df2.groupby('shop_id')\n",
    "res_df = res.first()\n",
    "res_df"
   ]
  },
  {
   "cell_type": "code",
   "execution_count": null,
   "metadata": {},
   "outputs": [],
   "source": [
    "arr = res['shop_id'].unique().astype(int)\n",
    "print(arr)"
   ]
  },
  {
   "cell_type": "code",
   "execution_count": null,
   "metadata": {},
   "outputs": [],
   "source": [
    "# To get labels from values \n",
    "arr2 = le.inverse_transform(arr)"
   ]
  },
  {
   "cell_type": "code",
   "execution_count": null,
   "metadata": {},
   "outputs": [],
   "source": [
    "arr2"
   ]
  },
  {
   "cell_type": "code",
   "execution_count": null,
   "metadata": {},
   "outputs": [],
   "source": [
    "# new = pd.DataFrame({'code': arr, 'shop_id': arr2})\n",
    "new = pd.DataFrame(data=np.column_stack((arr,arr2)),columns=['code','shop_id'])\n",
    "new = pd.merge(new, res_df,left_on='code', right_on='shop_id')\n",
    "new = new.drop('code', axis=1)\n",
    "new"
   ]
  },
  {
   "cell_type": "code",
   "execution_count": null,
   "metadata": {},
   "outputs": [],
   "source": [
    "#save dataframe into csv file\n",
    "new.to_csv('Testing-data.csv', index=False)"
   ]
  },
  {
   "cell_type": "code",
   "execution_count": null,
   "metadata": {},
   "outputs": [],
   "source": []
  }
 ],
 "metadata": {
  "kernelspec": {
   "display_name": "Python 3",
   "language": "python",
   "name": "python3"
  },
  "language_info": {
   "codemirror_mode": {
    "name": "ipython",
    "version": 3
   },
   "file_extension": ".py",
   "mimetype": "text/x-python",
   "name": "python",
   "nbconvert_exporter": "python",
   "pygments_lexer": "ipython3",
   "version": "3.8.5"
  }
 },
 "nbformat": 4,
 "nbformat_minor": 4
}
